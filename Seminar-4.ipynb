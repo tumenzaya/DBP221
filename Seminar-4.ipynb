#!/usr/bin/env python
# coding: utf-8

# In[1]:


#1
import numpy as np
a = np.arange(50,100)
print(a)


# In[2]:


#2
a1 = np.array([0,10,6])
np.repeat(a1,10,axis=0)


# In[3]:


#3
a2 = np.arange(20,32)
a3 =np.reshape(a2,(3,4))
print(a3)


# In[4]:


#4
a4 = np.zeros((3,3),int)
np.fill_diagonal(a4, 1)
a4


# In[5]:


#5
a6 = np.zeros((5,5), int)
np.fill_diagonal(a6, (1,2,3,4,5))
a6


# In[6]:


#6
a7 = [[1,2,3,4],[5,6,7,8]]
a8 = np.array(a7)
print(a8/4)
print(a8+a8)
print(a8-9)
print(a8*10)
print(a8//2)


# In[9]:


#7
#Seasons
Seasons = ["2012","2013","2014","2015","2016","2017","2018","2019","2020","2021"]
Sdict = {"2012":0,"2013":1,"2014":2,"2015":3,"2016":4,"2017":5,"2018":6,"2019":7,"2020":8,"2021":9}

#Players
Players = ["CristianoRonaldo","LeonelMessi","Neymar","PauloDybala","KevinDeBruyne","RobertLewandowski","ErlingHaaland"]
Pdict = {"CristianoRonaldo":0,"LeonelMessi":1,"Neymar":2,"PauloDybala":3,"KevinDeBruyne":4,"RobertLewandowski":5,"ErlingHaaland":6}

#Salaries
CristianoRonaldo_Salary = [35827110,17718750,19490625,21262500,23034375,24806250,25244493,27849149,30453805,23500000]
LeonelMessi_Salary = [31701564,12744189,13488377,14232567,14976754,16324500,18038573,19752645,21466718,23180790]
Neymar_Salary = [14983350,5828090,13041250,14410581,15779912,14500000,16022500,17545000,19067500,20644400]
PauloDybala_Salary = [3713640,4694041,13041250,14410581,15779912,17149243,18518574,19450000,22407474,22458000]
KevinDeBruyne_Salary = [4493160,4806720,6061274,13758000,15202590,16647180,18091770,19536360,20513178,21436271]
RobertLewandowski_Salary = [3348000,4235220,12455000,14410581,15779912,14500000,16022500,17545000,19067500,20644400]
ErlingHaaland_Salary = [3144240,3380160,3615960,4574189,13520500,14940153,16359805,17779458,18668431,20068563]

#Matrix
Salary = np.array([CristianoRonaldo_Salary, LeonelMessi_Salary, Neymar_Salary, PauloDybala_Salary, KevinDeBruyne_Salary, RobertLewandowski_Salary, ErlingHaaland_Salary])

#Games 
CristianoRonaldo_G = [80,77,82,82,73,82,58,78,6,35]
LeonelMessi_G = [82,57,82,79,76,72,60,72,79,80]
Neymar_G = [79,78,75,81,76,79,62,76,77,69]
PauloDybala_G = [80,65,77,66,69,77,55,67,77,40]
KevinDeBruyne_G = [82,82,82,79,82,78,54,76,71,41]
RobertLewandowski_G = [70,69,67,77,70,77,57,74,79,44]
ErlingHaaland_G = [78,64,80,78,45,80,60,70,62,82]

#Matrix
Games = np.array([CristianoRonaldo_G, LeonelMessi_G, Neymar_G, PauloDybala_G, KevinDeBruyne_G, RobertLewandowski_G, ErlingHaaland_G])

#Field Goals
CristianoRonaldo_FG = [978,813,775,800,716,740,574,738,31,266]
LeonelMessi_FG = [632,536,647,620,635,514,423,445,462,446]
Neymar_FG = [875,772,794,789,768,758,621,765,767,624]
PauloDybala_FG = [756,691,728,535,688,684,441,669,743,358]
KevinDeBruyne_FG = [468,526,583,560,510,619,416,470,473,251]
RobertLewandowski_FG = [549,543,507,615,600,524,393,485,492,343]
ErlingHaaland_FG = [407,381,630,631,314,430,425,412,406,568]

#Matrix
FieldGoals  = np.array([CristianoRonaldo_FG, LeonelMessi_FG, Neymar_FG, PauloDybala_FG, KevinDeBruyne_FG, RobertLewandowski_FG, ErlingHaaland_FG])

print(Salary)
print(FieldGoals)
print(Games)


# In[ ]:




